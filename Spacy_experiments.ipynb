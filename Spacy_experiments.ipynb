{
 "cells": [
  {
   "cell_type": "code",
   "execution_count": 1,
   "metadata": {},
   "outputs": [],
   "source": [
    "import spacy\n",
    "import pandas as pd\n",
    "import numpy as np\n",
    "import matplotlib.pyplot as plt\n",
    "from tqdm.auto import tqdm\n",
    "tqdm.pandas()\n",
    "\n",
    "from sklearn.feature_extraction.text import TfidfVectorizer\n",
    "from sklearn.model_selection import train_test_split\n",
    "from sklearn import svm\n",
    "\n",
    "from spacy.lang.en.stop_words import STOP_WORDS"
   ]
  },
  {
   "cell_type": "code",
   "execution_count": 2,
   "metadata": {},
   "outputs": [],
   "source": [
    "#loading data\n",
    "df = pd.read_csv(\"../data/train.csv\")"
   ]
  },
  {
   "cell_type": "code",
   "execution_count": 24,
   "metadata": {},
   "outputs": [
    {
     "name": "stdout",
     "output_type": "stream",
     "text": [
      "13061 rows loaded...\n",
      "columns are: ['qid', 'question_text', 'target']\n",
      "94.17% of sincere questions\n",
      "5.83% of insincere questions\n"
     ]
    }
   ],
   "source": [
    "def print_datasets_info(df):\n",
    "    print(\"{} rows loaded...\".format(df.shape[0]))\n",
    "    print(\"columns are: {}\".format(list(df.columns)))\n",
    "    print(\"{0:.2f}% of sincere questions\".format(len(df[df['target'] == 0])*100/df.shape[0]))\n",
    "    print(\"{0:.2f}% of insincere questions\".format(len(df[df['target'] == 1])*100/df.shape[0]))\n",
    "reducted_df = df.sample(frac=0.01)\n",
    "print_datasets_info(reducted_df)\n",
    "questions = reducted_df['question_text'].tolist()"
   ]
  },
  {
   "cell_type": "code",
   "execution_count": 35,
   "metadata": {},
   "outputs": [],
   "source": [
    "def iob_annotator(doc):\n",
    "    return [\n",
    "        \"{}_{}_{}\".format(token.lemma_, token.tag_, \n",
    "        \"{0}-{1}\".format(token.ent_iob_, token.ent_type_) if token.ent_iob_ != 'O' else token.ent_iob_)\n",
    "        for token in doc if not token.is_stop\n",
    "    ]"
   ]
  },
  {
   "cell_type": "code",
   "execution_count": 36,
   "metadata": {},
   "outputs": [
    {
     "name": "stdout",
     "output_type": "stream",
     "text": [
      "True\n",
      "True\n",
      "True\n",
      "True\n",
      "True\n",
      "True\n",
      "True\n"
     ]
    }
   ],
   "source": [
    "nlp = spacy.load('en')\n",
    "#add stop words\n",
    "my_stop_words = [\"what\", \"?\", \"if\", \"how\", \"difficult\", \"can\", \"why\"]\n",
    "for w in my_stop_words:\n",
    "    #print(nlp.vocab[w].is_stop)\n",
    "    nlp.vocab[w].is_stop = True\n",
    "    print(nlp.vocab[w].is_stop)"
   ]
  },
  {
   "cell_type": "code",
   "execution_count": 41,
   "metadata": {
    "scrolled": true
   },
   "outputs": [
    {
     "data": {
      "text/plain": [
       "False"
      ]
     },
     "execution_count": 41,
     "metadata": {},
     "output_type": "execute_result"
    }
   ],
   "source": [
    "#for question in questions: \n",
    "#features = [iob_annotator(nlp(question)) for question in tqdm(questions)]\n",
    "#doc = nlp(questions[1])\n",
    "#print(doc)\n",
    "#for token in doc:\n",
    "#    print(token.lemma_, token.is_stop)\n",
    "#print(iob_annotator(doc))\n",
    "#print(nlp.Defaults.stop_words)\n",
    "#for token in doc: \n",
    "#    print(token.text, token.is_stop)\n",
    "nlp.vocab[\"hello\"].is_stop\n",
    "#iob_annotator(doc)"
   ]
  },
  {
   "cell_type": "code",
   "execution_count": null,
   "metadata": {},
   "outputs": [],
   "source": [
    "def identity_tokenizer(text):\n",
    "    return text\n",
    "\n",
    "tfidf = TfidfVectorizer(tokenizer=identity_tokenizer, lowercase=False)    \n",
    "X = tfidf.fit_transform(features)"
   ]
  },
  {
   "cell_type": "code",
   "execution_count": null,
   "metadata": {},
   "outputs": [],
   "source": [
    "svm2 = svm.LinearSVC(C=1, max_iter=10000)\n",
    "X_train, X_val, y_train, y_val = train_test_split(X, reducted_df['target'], test_size=0.2, random_state=1)\n",
    "\n",
    "svm2.fit(X_train, y_train)\n",
    "\n",
    "def plot_coefficients(classifier, feature_names, top_features=80):\n",
    "    coef = classifier.coef_.ravel()\n",
    "    top_positive_coefficients = np.argsort(coef)[-top_features:]\n",
    "    top_negative_coefficients = np.argsort(coef)[:top_features]\n",
    "    top_coefficients = np.hstack([top_negative_coefficients, top_positive_coefficients])\n",
    "    # create plot\n",
    "    plt.figure(figsize=(15, 5))\n",
    "    colors = ['red' if c < 0 else 'blue' for c in coef[top_coefficients]]\n",
    "    plt.bar(np.arange(2 * top_features), coef[top_coefficients], color=colors)\n",
    "    feature_names = np.array(feature_names)\n",
    "    plt.xticks(np.arange(1, 1 + 2 * top_features), feature_names[top_coefficients], rotation=60, ha='right')\n",
    "    plt.show()\n",
    "    #print coeffs\n",
    "    for i in range(top_features):\n",
    "        print(\"{0:20} {1:20} {2:30} {3}\".format(feature_names[top_coefficients][i], coef[top_coefficients][i],\n",
    "                                                 feature_names[top_coefficients][top_features*2-1-i], coef[top_coefficients][top_features*2-1-i]))\n",
    "\n",
    "plot_coefficients(svm2, tfidf.get_feature_names())"
   ]
  },
  {
   "cell_type": "code",
   "execution_count": null,
   "metadata": {},
   "outputs": [],
   "source": [
    "svm1 = svm.LinearSVC(C=1, max_iter=10000)"
   ]
  },
  {
   "cell_type": "code",
   "execution_count": null,
   "metadata": {},
   "outputs": [],
   "source": [
    "from sklearn.model_selection import cross_validate\n",
    "scoring = ['accuracy', 'precision', 'recall', 'f1']\n",
    "scores = cross_validate(svm1, X, reducted_df['target'], cv=5, verbose=2, scoring=scoring)"
   ]
  },
  {
   "cell_type": "code",
   "execution_count": null,
   "metadata": {},
   "outputs": [],
   "source": [
    "def print_cv_results(scores):\n",
    "    print(\"TEST RESULT OF {}-FOLD CV: \".format(len(scores['fit_time'])))\n",
    "    print(\"\\tAccuracy: {:.4}\".format(scores['test_accuracy'].mean()))\n",
    "    print(\"\\tPrecision: {:.4}\".format(scores['test_precision'].mean()))\n",
    "    print(\"\\tRecall: {:.4}\".format(scores['test_recall'].mean()))\n",
    "    print(\"\\tF1: {:.4}\".format(scores['test_f1'].mean()))\n",
    "       \n",
    "print_cv_results(scores)"
   ]
  }
 ],
 "metadata": {
  "kernelspec": {
   "display_name": "Python 3",
   "language": "python",
   "name": "python3"
  },
  "language_info": {
   "codemirror_mode": {
    "name": "ipython",
    "version": 3
   },
   "file_extension": ".py",
   "mimetype": "text/x-python",
   "name": "python",
   "nbconvert_exporter": "python",
   "pygments_lexer": "ipython3",
   "version": "3.6.5"
  }
 },
 "nbformat": 4,
 "nbformat_minor": 2
}
