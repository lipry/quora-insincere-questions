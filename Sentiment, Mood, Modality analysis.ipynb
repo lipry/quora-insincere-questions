{
 "cells": [
  {
   "cell_type": "code",
   "execution_count": 1,
   "metadata": {},
   "outputs": [
    {
     "name": "stdout",
     "output_type": "stream",
     "text": [
      "Populating the interactive namespace from numpy and matplotlib\n"
     ]
    }
   ],
   "source": [
    "%matplotlib inline\n",
    "%pylab inline\n",
    "%load_ext autoreload\n",
    "%autoreload 2\n",
    "\n",
    "import pandas as pd\n",
    "import numpy as np\n",
    "from inforet_package.preprocessing import *\n",
    "import matplotlib.pyplot as plt\n",
    "\n",
    "from tqdm.auto import tqdm\n",
    "tqdm.pandas()"
   ]
  },
  {
   "cell_type": "code",
   "execution_count": 2,
   "metadata": {},
   "outputs": [],
   "source": [
    "#loading data\n",
    "df = pd.read_csv(\"../data/train.csv\")"
   ]
  },
  {
   "cell_type": "code",
   "execution_count": 3,
   "metadata": {},
   "outputs": [
    {
     "name": "stdout",
     "output_type": "stream",
     "text": [
      "1306122 rows loaded...\n",
      "columns are: ['qid', 'question_text', 'target']\n",
      "93.81% of sincere questions\n",
      "6.19% of insincere questions\n"
     ]
    }
   ],
   "source": [
    "def print_datasets_info(df):\n",
    "    print(\"{} rows loaded...\".format(df.shape[0]))\n",
    "    print(\"columns are: {}\".format(list(df.columns)))\n",
    "    print(\"{0:.2f}% of sincere questions\".format(len(df[df['target'] == 0])*100/df.shape[0]))\n",
    "    print(\"{0:.2f}% of insincere questions\".format(len(df[df['target'] == 1])*100/df.shape[0]))\n",
    "\n",
    "#reducted_df = df.sample(frac=0.2)\n",
    "reducted_df = df\n",
    "print_datasets_info(reducted_df)"
   ]
  },
  {
   "cell_type": "code",
   "execution_count": 4,
   "metadata": {},
   "outputs": [
    {
     "data": {
      "application/vnd.jupyter.widget-view+json": {
       "model_id": "f8beccbc7a71486caaf3c037a0cae7c6",
       "version_major": 2,
       "version_minor": 0
      },
      "text/plain": [
       "HBox(children=(IntProgress(value=0, max=1306122), HTML(value='')))"
      ]
     },
     "metadata": {},
     "output_type": "display_data"
    },
    {
     "name": "stdout",
     "output_type": "stream",
     "text": [
      "\n"
     ]
    }
   ],
   "source": [
    "reducted_df['double'] = reducted_df['question_text'].progress_apply(lambda x: sentiment_pattern(x))"
   ]
  },
  {
   "cell_type": "code",
   "execution_count": 5,
   "metadata": {
    "scrolled": true
   },
   "outputs": [
    {
     "data": {
      "application/vnd.jupyter.widget-view+json": {
       "model_id": "324afc08da2f4b96854c2d6a23b1ff46",
       "version_major": 2,
       "version_minor": 0
      },
      "text/plain": [
       "HBox(children=(IntProgress(value=0, max=1306122), HTML(value='')))"
      ]
     },
     "metadata": {},
     "output_type": "display_data"
    },
    {
     "name": "stdout",
     "output_type": "stream",
     "text": [
      "\n"
     ]
    },
    {
     "data": {
      "application/vnd.jupyter.widget-view+json": {
       "model_id": "4e65cefc67454e8abd0f6e540b4df9ce",
       "version_major": 2,
       "version_minor": 0
      },
      "text/plain": [
       "HBox(children=(IntProgress(value=0, max=1306122), HTML(value='')))"
      ]
     },
     "metadata": {},
     "output_type": "display_data"
    },
    {
     "name": "stdout",
     "output_type": "stream",
     "text": [
      "\n"
     ]
    }
   ],
   "source": [
    "reducted_df['polarity'] = [d[0] for d in tqdm(reducted_df.double)]\n",
    "reducted_df['subjectivity'] = [d[1] for d in tqdm(reducted_df.double)]\n",
    "reducted_df = reducted_df.drop('double', 1)"
   ]
  },
  {
   "cell_type": "code",
   "execution_count": 6,
   "metadata": {},
   "outputs": [
    {
     "data": {
      "application/vnd.jupyter.widget-view+json": {
       "model_id": "9e8a797ffe5c4c5da642f8904963fffb",
       "version_major": 2,
       "version_minor": 0
      },
      "text/plain": [
       "HBox(children=(IntProgress(value=0, max=1306122), HTML(value='')))"
      ]
     },
     "metadata": {},
     "output_type": "display_data"
    },
    {
     "name": "stdout",
     "output_type": "stream",
     "text": [
      "\n"
     ]
    }
   ],
   "source": [
    "reducted_df['double'] = reducted_df['question_text'].progress_apply(lambda x: get_modality_mood(x))"
   ]
  },
  {
   "cell_type": "code",
   "execution_count": 7,
   "metadata": {},
   "outputs": [
    {
     "data": {
      "application/vnd.jupyter.widget-view+json": {
       "model_id": "af069525dc04491da9ba9b3e6f3dc27e",
       "version_major": 2,
       "version_minor": 0
      },
      "text/plain": [
       "HBox(children=(IntProgress(value=0, max=1306122), HTML(value='')))"
      ]
     },
     "metadata": {},
     "output_type": "display_data"
    },
    {
     "name": "stdout",
     "output_type": "stream",
     "text": [
      "\n"
     ]
    },
    {
     "data": {
      "application/vnd.jupyter.widget-view+json": {
       "model_id": "6435cd85241f4be7b4e801430e9da76a",
       "version_major": 2,
       "version_minor": 0
      },
      "text/plain": [
       "HBox(children=(IntProgress(value=0, max=1306122), HTML(value='')))"
      ]
     },
     "metadata": {},
     "output_type": "display_data"
    },
    {
     "name": "stdout",
     "output_type": "stream",
     "text": [
      "\n"
     ]
    }
   ],
   "source": [
    "reducted_df['modality'] = [d[0] for d in tqdm(reducted_df.double)]\n",
    "reducted_df['mood'] = [d[1] for d in tqdm(reducted_df.double)]\n",
    "reducted_df = reducted_df.drop('double', 1)"
   ]
  },
  {
   "cell_type": "code",
   "execution_count": 8,
   "metadata": {},
   "outputs": [
    {
     "data": {
      "application/vnd.jupyter.widget-view+json": {
       "model_id": "adb8a347e4f24544995d83b1fdbb1b2e",
       "version_major": 2,
       "version_minor": 0
      },
      "text/plain": [
       "HBox(children=(IntProgress(value=0, max=1306122), HTML(value='')))"
      ]
     },
     "metadata": {},
     "output_type": "display_data"
    },
    {
     "name": "stdout",
     "output_type": "stream",
     "text": [
      "\n"
     ]
    },
    {
     "data": {
      "application/vnd.jupyter.widget-view+json": {
       "model_id": "65447994daa9434ead37460bf9072846",
       "version_major": 2,
       "version_minor": 0
      },
      "text/plain": [
       "HBox(children=(IntProgress(value=0, max=1306122), HTML(value='')))"
      ]
     },
     "metadata": {},
     "output_type": "display_data"
    },
    {
     "name": "stdout",
     "output_type": "stream",
     "text": [
      "\n"
     ]
    },
    {
     "data": {
      "application/vnd.jupyter.widget-view+json": {
       "model_id": "3644cb7447f14b8cb94bc4568a498ee1",
       "version_major": 2,
       "version_minor": 0
      },
      "text/plain": [
       "HBox(children=(IntProgress(value=0, max=1306122), HTML(value='')))"
      ]
     },
     "metadata": {},
     "output_type": "display_data"
    },
    {
     "name": "stdout",
     "output_type": "stream",
     "text": [
      "\n"
     ]
    },
    {
     "data": {
      "application/vnd.jupyter.widget-view+json": {
       "model_id": "aea322a85df1490e8198e1ecc3283101",
       "version_major": 2,
       "version_minor": 0
      },
      "text/plain": [
       "HBox(children=(IntProgress(value=0, max=1306122), HTML(value='')))"
      ]
     },
     "metadata": {},
     "output_type": "display_data"
    },
    {
     "name": "stdout",
     "output_type": "stream",
     "text": [
      "\n"
     ]
    },
    {
     "data": {
      "application/vnd.jupyter.widget-view+json": {
       "model_id": "69332834dd1d4950869f1af0dfb39df2",
       "version_major": 2,
       "version_minor": 0
      },
      "text/plain": [
       "HBox(children=(IntProgress(value=0, max=1306122), HTML(value='')))"
      ]
     },
     "metadata": {},
     "output_type": "display_data"
    },
    {
     "name": "stdout",
     "output_type": "stream",
     "text": [
      "\n"
     ]
    },
    {
     "data": {
      "application/vnd.jupyter.widget-view+json": {
       "model_id": "df460f87e97c480d9ac1bfb4cb8cac36",
       "version_major": 2,
       "version_minor": 0
      },
      "text/plain": [
       "HBox(children=(IntProgress(value=0, max=1306122), HTML(value='')))"
      ]
     },
     "metadata": {},
     "output_type": "display_data"
    },
    {
     "name": "stdout",
     "output_type": "stream",
     "text": [
      "\n"
     ]
    },
    {
     "data": {
      "application/vnd.jupyter.widget-view+json": {
       "model_id": "24a1fde378fe4d5da54e7b23a6027001",
       "version_major": 2,
       "version_minor": 0
      },
      "text/plain": [
       "HBox(children=(IntProgress(value=0, max=80810), HTML(value='')))"
      ]
     },
     "metadata": {},
     "output_type": "display_data"
    },
    {
     "name": "stdout",
     "output_type": "stream",
     "text": [
      "\n"
     ]
    },
    {
     "data": {
      "application/vnd.jupyter.widget-view+json": {
       "model_id": "ceef149ccf6748f08f8cb35497990d30",
       "version_major": 2,
       "version_minor": 0
      },
      "text/plain": [
       "HBox(children=(IntProgress(value=0, max=1306122), HTML(value='')))"
      ]
     },
     "metadata": {},
     "output_type": "display_data"
    },
    {
     "name": "stdout",
     "output_type": "stream",
     "text": [
      "\n"
     ]
    }
   ],
   "source": [
    "questions = cleaning_questions(reducted_df)\n",
    "tfidf_vocab, TfIdfMatrix, idf_dict = idf_dictionary_builder(questions)\n",
    "reducted_df['cleaned_questions'] = clean_stopwords(questions, idf_dict, 4)\n",
    "\n",
    "insincere_df = reducted_df[reducted_df['target'] == 1]\n",
    "vocab_dictionary = build_dictionary(reducted_df['cleaned_questions'])\n",
    "insincere_vocab_dictionary = build_dictionary(insincere_df['cleaned_questions'])\n",
    "\n",
    "spec_dict = get_specificity(vocab_dictionary, insincere_vocab_dictionary)\n",
    "reducted_df['specificity_average'] = reducted_df['cleaned_questions'].progress_apply(lambda x: specificity_average(x, spec_dict))"
   ]
  },
  {
   "cell_type": "code",
   "execution_count": 9,
   "metadata": {},
   "outputs": [],
   "source": [
    "sincere_questions = reducted_df[reducted_df['target'] == 0]\n",
    "insincere_questions = reducted_df[reducted_df['target'] == 1]"
   ]
  },
  {
   "cell_type": "code",
   "execution_count": 10,
   "metadata": {},
   "outputs": [
    {
     "data": {
      "image/png": "[encoded data removed]",
      "text/plain": [
       "<Figure size 720x720 with 1 Axes>"
      ]
     },
     "metadata": {
      "needs_background": "light"
     },
     "output_type": "display_data"
    },
    {
     "name": "stdout",
     "output_type": "stream",
     "text": [
      "0.0\n",
      "0.0\n"
     ]
    }
   ],
   "source": [
    "def boxplot_print(df_sincere, df_insincere, column):\n",
    "    fig = plt.figure(1, figsize=(10, 10))\n",
    "    ax = fig.add_subplot(111)\n",
    "    ax.boxplot([df_sincere[column], df_insincere[column]])\n",
    "    ax.set_xticklabels(['Sincere', 'Insincere'])\n",
    "    ax.set_title('Comparison between {} of sincere and insincere questions'.format(column))\n",
    "    plt.show()\n",
    "\n",
    "boxplot_print(sincere_questions, insincere_questions, 'polarity')\n",
    "print(sincere_questions['polarity'].median())\n",
    "print(insincere_questions['polarity'].median())"
   ]
  },
  {
   "cell_type": "code",
   "execution_count": 11,
   "metadata": {},
   "outputs": [
    {
     "data": {
      "image/png": "[encoded data removed]",
      "text/plain": [
       "<Figure size 720x720 with 1 Axes>"
      ]
     },
     "metadata": {
      "needs_background": "light"
     },
     "output_type": "display_data"
    },
    {
     "name": "stdout",
     "output_type": "stream",
     "text": [
      "0.2\n",
      "0.3676587301587302\n"
     ]
    }
   ],
   "source": [
    "boxplot_print(sincere_questions, insincere_questions, 'subjectivity')\n",
    "print(sincere_questions['subjectivity'].median())\n",
    "print(insincere_questions['subjectivity'].median())"
   ]
  },
  {
   "cell_type": "code",
   "execution_count": 12,
   "metadata": {},
   "outputs": [
    {
     "data": {
      "image/png": "[encoded data removed]",
      "text/plain": [
       "<Figure size 720x720 with 1 Axes>"
      ]
     },
     "metadata": {
      "needs_background": "light"
     },
     "output_type": "display_data"
    },
    {
     "name": "stdout",
     "output_type": "stream",
     "text": [
      "0.75\n",
      "0.75\n"
     ]
    }
   ],
   "source": [
    "boxplot_print(sincere_questions, insincere_questions, 'modality')\n",
    "print(sincere_questions['modality'].median())\n",
    "print(insincere_questions['modality'].median())"
   ]
  },
  {
   "cell_type": "code",
   "execution_count": 17,
   "metadata": {},
   "outputs": [
    {
     "name": "stdout",
     "output_type": "stream",
     "text": [
      "mood\n",
      "conditional     0.495058\n",
      "imperative      0.292905\n",
      "indicative     99.198163\n",
      "subjunctive     0.013874\n",
      "dtype: float64\n",
      "mood\n",
      "conditional     1.041950\n",
      "imperative      1.286969\n",
      "indicative     97.636431\n",
      "subjunctive     0.034649\n",
      "dtype: float64\n"
     ]
    }
   ],
   "source": [
    "sincere_size = sincere_questions.shape[0]\n",
    "sincere_perc = sincere_questions.groupby(['mood']).size().apply(lambda x: (x/sincere_size)*100)\n",
    "\n",
    "insincere_size = insincere_questions.shape[0]\n",
    "insincere_perc = insincere_questions.groupby(['mood']).size().apply(lambda x: (x/insincere_size)*100)\n",
    "\n",
    "print(sincere_perc)\n",
    "print(insincere_perc)"
   ]
  },
  {
   "cell_type": "code",
   "execution_count": 16,
   "metadata": {},
   "outputs": [
    {
     "data": {
      "image/png": "[encoded data removed]",
      "text/plain": [
       "<Figure size 720x720 with 1 Axes>"
      ]
     },
     "metadata": {
      "needs_background": "light"
     },
     "output_type": "display_data"
    }
   ],
   "source": [
    "def print_bar_chart(sincere_percentage, insincere_percentage):\n",
    "    l_sinc = len(sincere_percentage)\n",
    "    l_insinc = len(insincere_percentage)\n",
    "    assert l_sinc == l_insinc\n",
    "    fig = plt.figure(1, figsize=(10, 10))\n",
    "    ax = fig.add_subplot(111)\n",
    "    \n",
    "    ind = np.arange(l_sinc)\n",
    "    width = 0.35\n",
    "    rects1 = ax.bar(ind, sincere_percentage, width, color='r')\n",
    "    rects2 = ax.bar(ind + width, insincere_percentage, width, color='b')\n",
    "    ax.set_ylabel('% of samples')\n",
    "    ax.set_xticks(ind + width / 2)\n",
    "    ax.set_xticklabels(('CONDITIONAL', 'IMPERATIVE', 'INDICATIVE', 'SUBJUNCTIVE'))\n",
    "\n",
    "    ax.legend((rects1[0], rects2[0]), ('Sincere', 'Insincere'))\n",
    "    plt.show()\n",
    "\n",
    "print_bar_chart(sincere_perc.tolist(), insincere_perc.tolist())"
   ]
  },
  {
   "cell_type": "code",
   "execution_count": 15,
   "metadata": {},
   "outputs": [
    {
     "data": {
      "image/png": "[encoded data removed]",
      "text/plain": [
       "<Figure size 720x720 with 1 Axes>"
      ]
     },
     "metadata": {
      "needs_background": "light"
     },
     "output_type": "display_data"
    }
   ],
   "source": [
    "boxplot_print(sincere_questions, insincere_questions, 'specificity_average')"
   ]
  }
 ],
 "metadata": {
  "kernelspec": {
   "display_name": "Python 3",
   "language": "python",
   "name": "python3"
  },
  "language_info": {
   "codemirror_mode": {
    "name": "ipython",
    "version": 3
   },
   "file_extension": ".py",
   "mimetype": "text/x-python",
   "name": "python",
   "nbconvert_exporter": "python",
   "pygments_lexer": "ipython3",
   "version": "3.6.5"
  }
 },
 "nbformat": 4,
 "nbformat_minor": 2
}
