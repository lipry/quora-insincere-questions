{
 "cells": [
  {
   "cell_type": "code",
   "execution_count": 12,
   "metadata": {},
   "outputs": [
    {
     "name": "stdout",
     "output_type": "stream",
     "text": [
      "Populating the interactive namespace from numpy and matplotlib\n",
      "The autoreload extension is already loaded. To reload it, use:\n",
      "  %reload_ext autoreload\n"
     ]
    }
   ],
   "source": [
    "%matplotlib inline\n",
    "%pylab inline\n",
    "%load_ext autoreload\n",
    "%autoreload 2\n",
    "\n",
    "import pandas as pd\n",
    "import numpy as np\n",
    "from inforet_package.preprocessing import *\n",
    "import matplotlib.pyplot as plt\n",
    "\n",
    "from tqdm.auto import tqdm\n",
    "tqdm.pandas()"
   ]
  },
  {
   "cell_type": "code",
   "execution_count": 2,
   "metadata": {},
   "outputs": [],
   "source": [
    "#loading data\n",
    "df = pd.read_csv(\"../data/train.csv\")"
   ]
  },
  {
   "cell_type": "code",
   "execution_count": 3,
   "metadata": {},
   "outputs": [
    {
     "name": "stdout",
     "output_type": "stream",
     "text": [
      "261224 rows loaded...\n",
      "columns are: ['qid', 'question_text', 'target']\n",
      "93.88% of sincere questions\n",
      "6.12% of insincere questions\n"
     ]
    }
   ],
   "source": [
    "def print_datasets_info(df):\n",
    "    print(\"{} rows loaded...\".format(df.shape[0]))\n",
    "    print(\"columns are: {}\".format(list(df.columns)))\n",
    "    print(\"{0:.2f}% of sincere questions\".format(len(df[df['target'] == 0])*100/df.shape[0]))\n",
    "    print(\"{0:.2f}% of insincere questions\".format(len(df[df['target'] == 1])*100/df.shape[0]))\n",
    "\n",
    "reducted_df = df.sample(frac=0.2)\n",
    "print_datasets_info(reducted_df)"
   ]
  },
  {
   "cell_type": "code",
   "execution_count": 4,
   "metadata": {},
   "outputs": [
    {
     "data": {
      "application/vnd.jupyter.widget-view+json": {
       "model_id": "50f1817485724c42955c2f6f9e009251",
       "version_major": 2,
       "version_minor": 0
      },
      "text/plain": [
       "HBox(children=(IntProgress(value=0, max=261224), HTML(value='')))"
      ]
     },
     "metadata": {},
     "output_type": "display_data"
    },
    {
     "name": "stdout",
     "output_type": "stream",
     "text": [
      "\n"
     ]
    }
   ],
   "source": [
    "reducted_df['double'] = reducted_df['question_text'].progress_apply(lambda x: sentiment_pattern(x))"
   ]
  },
  {
   "cell_type": "code",
   "execution_count": 5,
   "metadata": {
    "scrolled": true
   },
   "outputs": [
    {
     "data": {
      "application/vnd.jupyter.widget-view+json": {
       "model_id": "b4201630c23a4bf2bb7bef394f4867da",
       "version_major": 2,
       "version_minor": 0
      },
      "text/plain": [
       "HBox(children=(IntProgress(value=0, max=261224), HTML(value='')))"
      ]
     },
     "metadata": {},
     "output_type": "display_data"
    },
    {
     "name": "stdout",
     "output_type": "stream",
     "text": [
      "\n"
     ]
    },
    {
     "data": {
      "application/vnd.jupyter.widget-view+json": {
       "model_id": "d8f6fc333ee14070bf1fc2507102892b",
       "version_major": 2,
       "version_minor": 0
      },
      "text/plain": [
       "HBox(children=(IntProgress(value=0, max=261224), HTML(value='')))"
      ]
     },
     "metadata": {},
     "output_type": "display_data"
    },
    {
     "name": "stdout",
     "output_type": "stream",
     "text": [
      "\n"
     ]
    }
   ],
   "source": [
    "reducted_df['polarity'] = [d[0] for d in tqdm(reducted_df.double)]\n",
    "reducted_df['subjectivity'] = [d[1] for d in tqdm(reducted_df.double)]\n",
    "reducted_df = reducted_df.drop('double', 1)"
   ]
  },
  {
   "cell_type": "code",
   "execution_count": 13,
   "metadata": {},
   "outputs": [
    {
     "data": {
      "application/vnd.jupyter.widget-view+json": {
       "model_id": "07d6dbd0361e4b749b1a4b9ac0bb6c3f",
       "version_major": 2,
       "version_minor": 0
      },
      "text/plain": [
       "HBox(children=(IntProgress(value=0, max=261224), HTML(value='')))"
      ]
     },
     "metadata": {},
     "output_type": "display_data"
    }
   ],
   "source": [
    "reducted_df['double'] = reducted_df['question_text'].progress_apply(lambda x: get_modality_mood(x))"
   ]
  },
  {
   "cell_type": "code",
   "execution_count": 14,
   "metadata": {},
   "outputs": [
    {
     "data": {
      "application/vnd.jupyter.widget-view+json": {
       "model_id": "5c577f964cfd4e4fabe8922045622520",
       "version_major": 2,
       "version_minor": 0
      },
      "text/plain": [
       "HBox(children=(IntProgress(value=0, max=261224), HTML(value='')))"
      ]
     },
     "metadata": {},
     "output_type": "display_data"
    },
    {
     "data": {
      "application/vnd.jupyter.widget-view+json": {
       "model_id": "c150291d50a7411abfc5570077553bdc",
       "version_major": 2,
       "version_minor": 0
      },
      "text/plain": [
       "HBox(children=(IntProgress(value=0, max=261224), HTML(value='')))"
      ]
     },
     "metadata": {},
     "output_type": "display_data"
    }
   ],
   "source": [
    "reducted_df['modality'] = [d[0] for d in tqdm(reducted_df.double)]\n",
    "reducted_df['mood'] = [d[1] for d in tqdm(reducted_df.double)]\n",
    "reducted_df = reducted_df.drop('double', 1)"
   ]
  },
  {
   "cell_type": "code",
   "execution_count": 24,
   "metadata": {},
   "outputs": [],
   "source": [
    "sincere_questions = reducted_df[reducted_df['target'] == 0]\n",
    "insincere_questions = reducted_df[reducted_df['target'] == 1]"
   ]
  },
  {
   "cell_type": "code",
   "execution_count": 7,
   "metadata": {},
   "outputs": [
    {
     "data": {
      "image/png": "[encoded data removed]",
      "text/plain": [
       "<Figure size 720x720 with 1 Axes>"
      ]
     },
     "metadata": {
      "needs_background": "light"
     },
     "output_type": "display_data"
    },
    {
     "name": "stdout",
     "output_type": "stream",
     "text": [
      "0.0\n",
      "0.0\n"
     ]
    }
   ],
   "source": [
    "def boxplot_print(df_sincere, df_insincere, column):\n",
    "    fig = plt.figure(1, figsize=(10, 10))\n",
    "    ax = fig.add_subplot(111)\n",
    "    ax.boxplot([df_sincere[column], df_insincere[column]])\n",
    "    ax.set_xticklabels(['Sincere', 'Insincere'])\n",
    "    ax.set_title('Comparison between {} of sincere and insincere questions'.format(column))\n",
    "    plt.show()\n",
    "\n",
    "boxplot_print(sincere_questions, insincere_questions, 'polarity')\n",
    "print(sincere_questions['polarity'].median())\n",
    "print(insincere_questions['polarity'].median())"
   ]
  },
  {
   "cell_type": "code",
   "execution_count": 8,
   "metadata": {},
   "outputs": [
    {
     "data": {
      "image/png": "[encoded data removed]",
      "text/plain": [
       "<Figure size 720x720 with 1 Axes>"
      ]
     },
     "metadata": {
      "needs_background": "light"
     },
     "output_type": "display_data"
    },
    {
     "name": "stdout",
     "output_type": "stream",
     "text": [
      "0.2\n",
      "0.3611111111111111\n"
     ]
    }
   ],
   "source": [
    "boxplot_print(sincere_questions, insincere_questions, 'subjectivity')\n",
    "print(sincere_questions['subjectivity'].median())\n",
    "print(insincere_questions['subjectivity'].median())"
   ]
  },
  {
   "cell_type": "code",
   "execution_count": null,
   "metadata": {},
   "outputs": [],
   "source": [
    "boxplot_print(sincere_questions, insincere_questions, 'modality')\n",
    "print(sincere_questions['modality'].median())\n",
    "print(insincere_questions['modality'].median())"
   ]
  },
  {
   "cell_type": "code",
   "execution_count": 47,
   "metadata": {},
   "outputs": [
    {
     "name": "stdout",
     "output_type": "stream",
     "text": [
      "mood\n",
      "conditional     0.509314\n",
      "imperative      0.285036\n",
      "indicative     99.193417\n",
      "subjunctive     0.012233\n",
      "dtype: float64\n"
     ]
    }
   ],
   "source": [
    "sincere_size = sincere_questions.shape[0]\n",
    "sincere_perc = sincere_questions.groupby(['mood']).size().apply(lambda x: (x/sincere_size)*100)\n",
    "\n",
    "insincere_size = insincere_questions.shape[0]\n",
    "insincere_perc = insincere_questions.groupby(['mood']).size().apply(lambda x: (x/insincere_size)*100)\n",
    "\n",
    "print(sincere_perc)"
   ]
  },
  {
   "cell_type": "code",
   "execution_count": 48,
   "metadata": {},
   "outputs": [
    {
     "data": {
      "image/png": "[encoded data removed]",
      "text/plain": [
       "<Figure size 720x720 with 1 Axes>"
      ]
     },
     "metadata": {
      "needs_background": "light"
     },
     "output_type": "display_data"
    }
   ],
   "source": [
    "def print_bar_chart(sincere_percentage, insincere_percentage):\n",
    "    l_sinc = len(sincere_percentage)\n",
    "    l_insinc = len(insincere_percentage)\n",
    "    assert l_sinc == l_insinc\n",
    "    fig = plt.figure(1, figsize=(10, 10))\n",
    "    ax = fig.add_subplot(111)\n",
    "    \n",
    "    ind = np.arange(l_sinc)\n",
    "    width = 0.35\n",
    "    rects1 = ax.bar(ind, sincere_percentage, width, color='r')\n",
    "    rects2 = ax.bar(ind + width, insincere_percentage, width, color='b')\n",
    "    ax.set_ylabel('% of samples')\n",
    "    ax.set_title('Scores by mood and gender')\n",
    "    ax.set_xticks(ind + width / 2)\n",
    "    ax.set_xticklabels(('CONDITIONAL', 'IMPERATIVE', 'INDICATIVE', 'SUBJUNCTIVE'))\n",
    "\n",
    "    ax.legend((rects1[0], rects2[0]), ('Sincere', 'Insincere'))\n",
    "    plt.show()\n",
    "\n",
    "print_bar_chart(sincere_perc.tolist(), insincere_perc.tolist())"
   ]
  }
 ],
 "metadata": {
  "kernelspec": {
   "display_name": "Python 3",
   "language": "python",
   "name": "python3"
  },
  "language_info": {
   "codemirror_mode": {
    "name": "ipython",
    "version": 3
   },
   "file_extension": ".py",
   "mimetype": "text/x-python",
   "name": "python",
   "nbconvert_exporter": "python",
   "pygments_lexer": "ipython3",
   "version": "3.6.5"
  }
 },
 "nbformat": 4,
 "nbformat_minor": 2
}
